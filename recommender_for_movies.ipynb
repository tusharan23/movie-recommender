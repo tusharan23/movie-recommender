{
 "cells": [
  {
   "cell_type": "code",
   "execution_count": 4,
   "metadata": {},
   "outputs": [],
   "source": [
    "import pandas as pd\n",
    "import numpy as np\n",
    "import pickle\n",
    "from IPython.display import display, Image\n",
    "import ipywidgets as widgets\n"
   ]
  },
  {
   "cell_type": "code",
   "execution_count": 5,
   "metadata": {},
   "outputs": [],
   "source": [
    "# ✅ Load pickled movie data and similarity matrix\n",
    "movies = pickle.load(open(\"movie_list.pkl\", \"rb\"))\n",
    "similarity = pickle.load(open(\"similarity.pkl\", \"rb\"))\n"
   ]
  },
  {
   "cell_type": "code",
   "execution_count": 6,
   "metadata": {},
   "outputs": [
    {
     "data": {
      "text/plain": [
       "(      budget                                             genres  \\\n",
       " 0  237000000  [{\"id\": 28, \"name\": \"Action\"}, {\"id\": 12, \"nam...   \n",
       " 1  300000000  [{\"id\": 12, \"name\": \"Adventure\"}, {\"id\": 14, \"...   \n",
       " 2  245000000  [{\"id\": 28, \"name\": \"Action\"}, {\"id\": 12, \"nam...   \n",
       " 3  250000000  [{\"id\": 28, \"name\": \"Action\"}, {\"id\": 80, \"nam...   \n",
       " 4  260000000  [{\"id\": 28, \"name\": \"Action\"}, {\"id\": 12, \"nam...   \n",
       " \n",
       "                                        homepage      id  \\\n",
       " 0                   http://www.avatarmovie.com/   19995   \n",
       " 1  http://disney.go.com/disneypictures/pirates/     285   \n",
       " 2   http://www.sonypictures.com/movies/spectre/  206647   \n",
       " 3            http://www.thedarkknightrises.com/   49026   \n",
       " 4          http://movies.disney.com/john-carter   49529   \n",
       " \n",
       "                                             keywords original_language  \\\n",
       " 0  [{\"id\": 1463, \"name\": \"culture clash\"}, {\"id\":...                en   \n",
       " 1  [{\"id\": 270, \"name\": \"ocean\"}, {\"id\": 726, \"na...                en   \n",
       " 2  [{\"id\": 470, \"name\": \"spy\"}, {\"id\": 818, \"name...                en   \n",
       " 3  [{\"id\": 849, \"name\": \"dc comics\"}, {\"id\": 853,...                en   \n",
       " 4  [{\"id\": 818, \"name\": \"based on novel\"}, {\"id\":...                en   \n",
       " \n",
       "                              original_title  \\\n",
       " 0                                    Avatar   \n",
       " 1  Pirates of the Caribbean: At World's End   \n",
       " 2                                   Spectre   \n",
       " 3                     The Dark Knight Rises   \n",
       " 4                               John Carter   \n",
       " \n",
       "                                             overview  popularity  \\\n",
       " 0  In the 22nd century, a paraplegic Marine is di...  150.437577   \n",
       " 1  Captain Barbossa, long believed to be dead, ha...  139.082615   \n",
       " 2  A cryptic message from Bond’s past sends him o...  107.376788   \n",
       " 3  Following the death of District Attorney Harve...  112.312950   \n",
       " 4  John Carter is a war-weary, former military ca...   43.926995   \n",
       " \n",
       "                                 production_companies  \\\n",
       " 0  [{\"name\": \"Ingenious Film Partners\", \"id\": 289...   \n",
       " 1  [{\"name\": \"Walt Disney Pictures\", \"id\": 2}, {\"...   \n",
       " 2  [{\"name\": \"Columbia Pictures\", \"id\": 5}, {\"nam...   \n",
       " 3  [{\"name\": \"Legendary Pictures\", \"id\": 923}, {\"...   \n",
       " 4        [{\"name\": \"Walt Disney Pictures\", \"id\": 2}]   \n",
       " \n",
       "                                 production_countries release_date     revenue  \\\n",
       " 0  [{\"iso_3166_1\": \"US\", \"name\": \"United States o...   2009-12-10  2787965087   \n",
       " 1  [{\"iso_3166_1\": \"US\", \"name\": \"United States o...   2007-05-19   961000000   \n",
       " 2  [{\"iso_3166_1\": \"GB\", \"name\": \"United Kingdom\"...   2015-10-26   880674609   \n",
       " 3  [{\"iso_3166_1\": \"US\", \"name\": \"United States o...   2012-07-16  1084939099   \n",
       " 4  [{\"iso_3166_1\": \"US\", \"name\": \"United States o...   2012-03-07   284139100   \n",
       " \n",
       "    runtime                                   spoken_languages    status  \\\n",
       " 0    162.0  [{\"iso_639_1\": \"en\", \"name\": \"English\"}, {\"iso...  Released   \n",
       " 1    169.0           [{\"iso_639_1\": \"en\", \"name\": \"English\"}]  Released   \n",
       " 2    148.0  [{\"iso_639_1\": \"fr\", \"name\": \"Fran\\u00e7ais\"},...  Released   \n",
       " 3    165.0           [{\"iso_639_1\": \"en\", \"name\": \"English\"}]  Released   \n",
       " 4    132.0           [{\"iso_639_1\": \"en\", \"name\": \"English\"}]  Released   \n",
       " \n",
       "                                           tagline  \\\n",
       " 0                     Enter the World of Pandora.   \n",
       " 1  At the end of the world, the adventure begins.   \n",
       " 2                           A Plan No One Escapes   \n",
       " 3                                 The Legend Ends   \n",
       " 4            Lost in our world, found in another.   \n",
       " \n",
       "                                       title  vote_average  vote_count  \n",
       " 0                                    Avatar           7.2       11800  \n",
       " 1  Pirates of the Caribbean: At World's End           6.9        4500  \n",
       " 2                                   Spectre           6.3        4466  \n",
       " 3                     The Dark Knight Rises           7.6        9106  \n",
       " 4                               John Carter           6.1        2124  ,\n",
       "    movie_id                                     title  \\\n",
       " 0     19995                                    Avatar   \n",
       " 1       285  Pirates of the Caribbean: At World's End   \n",
       " 2    206647                                   Spectre   \n",
       " 3     49026                     The Dark Knight Rises   \n",
       " 4     49529                               John Carter   \n",
       " \n",
       "                                                 cast  \\\n",
       " 0  [{\"cast_id\": 242, \"character\": \"Jake Sully\", \"...   \n",
       " 1  [{\"cast_id\": 4, \"character\": \"Captain Jack Spa...   \n",
       " 2  [{\"cast_id\": 1, \"character\": \"James Bond\", \"cr...   \n",
       " 3  [{\"cast_id\": 2, \"character\": \"Bruce Wayne / Ba...   \n",
       " 4  [{\"cast_id\": 5, \"character\": \"John Carter\", \"c...   \n",
       " \n",
       "                                                 crew  \n",
       " 0  [{\"credit_id\": \"52fe48009251416c750aca23\", \"de...  \n",
       " 1  [{\"credit_id\": \"52fe4232c3a36847f800b579\", \"de...  \n",
       " 2  [{\"credit_id\": \"54805967c3a36829b5002c41\", \"de...  \n",
       " 3  [{\"credit_id\": \"52fe4781c3a36847f81398c3\", \"de...  \n",
       " 4  [{\"credit_id\": \"52fe479ac3a36847f813eaa3\", \"de...  )"
      ]
     },
     "execution_count": 6,
     "metadata": {},
     "output_type": "execute_result"
    }
   ],
   "source": [
    "# Load movie and credit datasets\n",
    "movies_df = pd.read_csv('tmdb_5000_movies.csv')\n",
    "credits_df = pd.read_csv('tmdb_5000_credits.csv')\n",
    "\n",
    "# Preview the datasets\n",
    "movies_df.head(), credits_df.head()\n"
   ]
  },
  {
   "cell_type": "code",
   "execution_count": null,
   "metadata": {},
   "outputs": [],
   "source": []
  },
  {
   "cell_type": "code",
   "execution_count": 7,
   "metadata": {},
   "outputs": [
    {
     "data": {
      "text/html": [
       "<div>\n",
       "<style scoped>\n",
       "    .dataframe tbody tr th:only-of-type {\n",
       "        vertical-align: middle;\n",
       "    }\n",
       "\n",
       "    .dataframe tbody tr th {\n",
       "        vertical-align: top;\n",
       "    }\n",
       "\n",
       "    .dataframe thead th {\n",
       "        text-align: right;\n",
       "    }\n",
       "</style>\n",
       "<table border=\"1\" class=\"dataframe\">\n",
       "  <thead>\n",
       "    <tr style=\"text-align: right;\">\n",
       "      <th></th>\n",
       "      <th>movie_id</th>\n",
       "      <th>title</th>\n",
       "      <th>overview</th>\n",
       "      <th>genres</th>\n",
       "      <th>keywords</th>\n",
       "      <th>cast</th>\n",
       "      <th>crew</th>\n",
       "    </tr>\n",
       "  </thead>\n",
       "  <tbody>\n",
       "    <tr>\n",
       "      <th>0</th>\n",
       "      <td>19995</td>\n",
       "      <td>Avatar</td>\n",
       "      <td>In the 22nd century, a paraplegic Marine is di...</td>\n",
       "      <td>[{\"id\": 28, \"name\": \"Action\"}, {\"id\": 12, \"nam...</td>\n",
       "      <td>[{\"id\": 1463, \"name\": \"culture clash\"}, {\"id\":...</td>\n",
       "      <td>[{\"cast_id\": 242, \"character\": \"Jake Sully\", \"...</td>\n",
       "      <td>[{\"credit_id\": \"52fe48009251416c750aca23\", \"de...</td>\n",
       "    </tr>\n",
       "    <tr>\n",
       "      <th>1</th>\n",
       "      <td>285</td>\n",
       "      <td>Pirates of the Caribbean: At World's End</td>\n",
       "      <td>Captain Barbossa, long believed to be dead, ha...</td>\n",
       "      <td>[{\"id\": 12, \"name\": \"Adventure\"}, {\"id\": 14, \"...</td>\n",
       "      <td>[{\"id\": 270, \"name\": \"ocean\"}, {\"id\": 726, \"na...</td>\n",
       "      <td>[{\"cast_id\": 4, \"character\": \"Captain Jack Spa...</td>\n",
       "      <td>[{\"credit_id\": \"52fe4232c3a36847f800b579\", \"de...</td>\n",
       "    </tr>\n",
       "    <tr>\n",
       "      <th>2</th>\n",
       "      <td>206647</td>\n",
       "      <td>Spectre</td>\n",
       "      <td>A cryptic message from Bond’s past sends him o...</td>\n",
       "      <td>[{\"id\": 28, \"name\": \"Action\"}, {\"id\": 12, \"nam...</td>\n",
       "      <td>[{\"id\": 470, \"name\": \"spy\"}, {\"id\": 818, \"name...</td>\n",
       "      <td>[{\"cast_id\": 1, \"character\": \"James Bond\", \"cr...</td>\n",
       "      <td>[{\"credit_id\": \"54805967c3a36829b5002c41\", \"de...</td>\n",
       "    </tr>\n",
       "    <tr>\n",
       "      <th>3</th>\n",
       "      <td>49026</td>\n",
       "      <td>The Dark Knight Rises</td>\n",
       "      <td>Following the death of District Attorney Harve...</td>\n",
       "      <td>[{\"id\": 28, \"name\": \"Action\"}, {\"id\": 80, \"nam...</td>\n",
       "      <td>[{\"id\": 849, \"name\": \"dc comics\"}, {\"id\": 853,...</td>\n",
       "      <td>[{\"cast_id\": 2, \"character\": \"Bruce Wayne / Ba...</td>\n",
       "      <td>[{\"credit_id\": \"52fe4781c3a36847f81398c3\", \"de...</td>\n",
       "    </tr>\n",
       "    <tr>\n",
       "      <th>4</th>\n",
       "      <td>49529</td>\n",
       "      <td>John Carter</td>\n",
       "      <td>John Carter is a war-weary, former military ca...</td>\n",
       "      <td>[{\"id\": 28, \"name\": \"Action\"}, {\"id\": 12, \"nam...</td>\n",
       "      <td>[{\"id\": 818, \"name\": \"based on novel\"}, {\"id\":...</td>\n",
       "      <td>[{\"cast_id\": 5, \"character\": \"John Carter\", \"c...</td>\n",
       "      <td>[{\"credit_id\": \"52fe479ac3a36847f813eaa3\", \"de...</td>\n",
       "    </tr>\n",
       "  </tbody>\n",
       "</table>\n",
       "</div>"
      ],
      "text/plain": [
       "   movie_id                                     title  \\\n",
       "0     19995                                    Avatar   \n",
       "1       285  Pirates of the Caribbean: At World's End   \n",
       "2    206647                                   Spectre   \n",
       "3     49026                     The Dark Knight Rises   \n",
       "4     49529                               John Carter   \n",
       "\n",
       "                                            overview  \\\n",
       "0  In the 22nd century, a paraplegic Marine is di...   \n",
       "1  Captain Barbossa, long believed to be dead, ha...   \n",
       "2  A cryptic message from Bond’s past sends him o...   \n",
       "3  Following the death of District Attorney Harve...   \n",
       "4  John Carter is a war-weary, former military ca...   \n",
       "\n",
       "                                              genres  \\\n",
       "0  [{\"id\": 28, \"name\": \"Action\"}, {\"id\": 12, \"nam...   \n",
       "1  [{\"id\": 12, \"name\": \"Adventure\"}, {\"id\": 14, \"...   \n",
       "2  [{\"id\": 28, \"name\": \"Action\"}, {\"id\": 12, \"nam...   \n",
       "3  [{\"id\": 28, \"name\": \"Action\"}, {\"id\": 80, \"nam...   \n",
       "4  [{\"id\": 28, \"name\": \"Action\"}, {\"id\": 12, \"nam...   \n",
       "\n",
       "                                            keywords  \\\n",
       "0  [{\"id\": 1463, \"name\": \"culture clash\"}, {\"id\":...   \n",
       "1  [{\"id\": 270, \"name\": \"ocean\"}, {\"id\": 726, \"na...   \n",
       "2  [{\"id\": 470, \"name\": \"spy\"}, {\"id\": 818, \"name...   \n",
       "3  [{\"id\": 849, \"name\": \"dc comics\"}, {\"id\": 853,...   \n",
       "4  [{\"id\": 818, \"name\": \"based on novel\"}, {\"id\":...   \n",
       "\n",
       "                                                cast  \\\n",
       "0  [{\"cast_id\": 242, \"character\": \"Jake Sully\", \"...   \n",
       "1  [{\"cast_id\": 4, \"character\": \"Captain Jack Spa...   \n",
       "2  [{\"cast_id\": 1, \"character\": \"James Bond\", \"cr...   \n",
       "3  [{\"cast_id\": 2, \"character\": \"Bruce Wayne / Ba...   \n",
       "4  [{\"cast_id\": 5, \"character\": \"John Carter\", \"c...   \n",
       "\n",
       "                                                crew  \n",
       "0  [{\"credit_id\": \"52fe48009251416c750aca23\", \"de...  \n",
       "1  [{\"credit_id\": \"52fe4232c3a36847f800b579\", \"de...  \n",
       "2  [{\"credit_id\": \"54805967c3a36829b5002c41\", \"de...  \n",
       "3  [{\"credit_id\": \"52fe4781c3a36847f81398c3\", \"de...  \n",
       "4  [{\"credit_id\": \"52fe479ac3a36847f813eaa3\", \"de...  "
      ]
     },
     "execution_count": 7,
     "metadata": {},
     "output_type": "execute_result"
    }
   ],
   "source": [
    "# Merge movies and credits on the title\n",
    "movies_df = movies_df.merge(credits_df, on='title')\n",
    "\n",
    "# Keep only useful columns\n",
    "movies_df = movies_df[['movie_id', 'title', 'overview', 'genres', 'keywords', 'cast', 'crew']]\n",
    "\n",
    "movies_df.head()\n"
   ]
  },
  {
   "cell_type": "code",
   "execution_count": 8,
   "metadata": {},
   "outputs": [
    {
     "data": {
      "text/html": [
       "<div>\n",
       "<style scoped>\n",
       "    .dataframe tbody tr th:only-of-type {\n",
       "        vertical-align: middle;\n",
       "    }\n",
       "\n",
       "    .dataframe tbody tr th {\n",
       "        vertical-align: top;\n",
       "    }\n",
       "\n",
       "    .dataframe thead th {\n",
       "        text-align: right;\n",
       "    }\n",
       "</style>\n",
       "<table border=\"1\" class=\"dataframe\">\n",
       "  <thead>\n",
       "    <tr style=\"text-align: right;\">\n",
       "      <th></th>\n",
       "      <th>movie_id</th>\n",
       "      <th>title</th>\n",
       "      <th>overview</th>\n",
       "      <th>genres</th>\n",
       "      <th>keywords</th>\n",
       "      <th>cast</th>\n",
       "      <th>crew</th>\n",
       "    </tr>\n",
       "  </thead>\n",
       "  <tbody>\n",
       "    <tr>\n",
       "      <th>0</th>\n",
       "      <td>19995</td>\n",
       "      <td>Avatar</td>\n",
       "      <td>In the 22nd century, a paraplegic Marine is di...</td>\n",
       "      <td>[Action, Adventure, Fantasy, Science Fiction]</td>\n",
       "      <td>[culture clash, future, space war, space colon...</td>\n",
       "      <td>[Sam Worthington, Zoe Saldana, Sigourney Weaver]</td>\n",
       "      <td>[James Cameron]</td>\n",
       "    </tr>\n",
       "    <tr>\n",
       "      <th>1</th>\n",
       "      <td>285</td>\n",
       "      <td>Pirates of the Caribbean: At World's End</td>\n",
       "      <td>Captain Barbossa, long believed to be dead, ha...</td>\n",
       "      <td>[Adventure, Fantasy, Action]</td>\n",
       "      <td>[ocean, drug abuse, exotic island, east india ...</td>\n",
       "      <td>[Johnny Depp, Orlando Bloom, Keira Knightley]</td>\n",
       "      <td>[Gore Verbinski]</td>\n",
       "    </tr>\n",
       "    <tr>\n",
       "      <th>2</th>\n",
       "      <td>206647</td>\n",
       "      <td>Spectre</td>\n",
       "      <td>A cryptic message from Bond’s past sends him o...</td>\n",
       "      <td>[Action, Adventure, Crime]</td>\n",
       "      <td>[spy, based on novel, secret agent, sequel, mi...</td>\n",
       "      <td>[Daniel Craig, Christoph Waltz, Léa Seydoux]</td>\n",
       "      <td>[Sam Mendes]</td>\n",
       "    </tr>\n",
       "    <tr>\n",
       "      <th>3</th>\n",
       "      <td>49026</td>\n",
       "      <td>The Dark Knight Rises</td>\n",
       "      <td>Following the death of District Attorney Harve...</td>\n",
       "      <td>[Action, Crime, Drama, Thriller]</td>\n",
       "      <td>[dc comics, crime fighter, terrorist, secret i...</td>\n",
       "      <td>[Christian Bale, Michael Caine, Gary Oldman]</td>\n",
       "      <td>[Christopher Nolan]</td>\n",
       "    </tr>\n",
       "    <tr>\n",
       "      <th>4</th>\n",
       "      <td>49529</td>\n",
       "      <td>John Carter</td>\n",
       "      <td>John Carter is a war-weary, former military ca...</td>\n",
       "      <td>[Action, Adventure, Science Fiction]</td>\n",
       "      <td>[based on novel, mars, medallion, space travel...</td>\n",
       "      <td>[Taylor Kitsch, Lynn Collins, Samantha Morton]</td>\n",
       "      <td>[Andrew Stanton]</td>\n",
       "    </tr>\n",
       "  </tbody>\n",
       "</table>\n",
       "</div>"
      ],
      "text/plain": [
       "   movie_id                                     title  \\\n",
       "0     19995                                    Avatar   \n",
       "1       285  Pirates of the Caribbean: At World's End   \n",
       "2    206647                                   Spectre   \n",
       "3     49026                     The Dark Knight Rises   \n",
       "4     49529                               John Carter   \n",
       "\n",
       "                                            overview  \\\n",
       "0  In the 22nd century, a paraplegic Marine is di...   \n",
       "1  Captain Barbossa, long believed to be dead, ha...   \n",
       "2  A cryptic message from Bond’s past sends him o...   \n",
       "3  Following the death of District Attorney Harve...   \n",
       "4  John Carter is a war-weary, former military ca...   \n",
       "\n",
       "                                          genres  \\\n",
       "0  [Action, Adventure, Fantasy, Science Fiction]   \n",
       "1                   [Adventure, Fantasy, Action]   \n",
       "2                     [Action, Adventure, Crime]   \n",
       "3               [Action, Crime, Drama, Thriller]   \n",
       "4           [Action, Adventure, Science Fiction]   \n",
       "\n",
       "                                            keywords  \\\n",
       "0  [culture clash, future, space war, space colon...   \n",
       "1  [ocean, drug abuse, exotic island, east india ...   \n",
       "2  [spy, based on novel, secret agent, sequel, mi...   \n",
       "3  [dc comics, crime fighter, terrorist, secret i...   \n",
       "4  [based on novel, mars, medallion, space travel...   \n",
       "\n",
       "                                               cast                 crew  \n",
       "0  [Sam Worthington, Zoe Saldana, Sigourney Weaver]      [James Cameron]  \n",
       "1     [Johnny Depp, Orlando Bloom, Keira Knightley]     [Gore Verbinski]  \n",
       "2      [Daniel Craig, Christoph Waltz, Léa Seydoux]         [Sam Mendes]  \n",
       "3      [Christian Bale, Michael Caine, Gary Oldman]  [Christopher Nolan]  \n",
       "4    [Taylor Kitsch, Lynn Collins, Samantha Morton]     [Andrew Stanton]  "
      ]
     },
     "execution_count": 8,
     "metadata": {},
     "output_type": "execute_result"
    }
   ],
   "source": [
    "import ast\n",
    "\n",
    "# Function to extract 'name' fields\n",
    "def extract_names(obj):\n",
    "    try:\n",
    "        items = ast.literal_eval(obj)\n",
    "        return [item['name'] for item in items]\n",
    "    except:\n",
    "        return []\n",
    "\n",
    "# Function to extract director from crew\n",
    "def extract_director(obj):\n",
    "    try:\n",
    "        items = ast.literal_eval(obj)\n",
    "        return [item['name'] for item in items if item['job'] == 'Director']\n",
    "    except:\n",
    "        return []\n",
    "\n",
    "# Apply functions\n",
    "movies_df['genres'] = movies_df['genres'].apply(extract_names)\n",
    "movies_df['keywords'] = movies_df['keywords'].apply(extract_names)\n",
    "movies_df['cast'] = movies_df['cast'].apply(lambda x: extract_names(x)[:3])  # top 3 cast\n",
    "movies_df['crew'] = movies_df['crew'].apply(extract_director)\n",
    "\n",
    "movies_df.head()\n"
   ]
  },
  {
   "cell_type": "code",
   "execution_count": 9,
   "metadata": {},
   "outputs": [
    {
     "data": {
      "text/html": [
       "<div>\n",
       "<style scoped>\n",
       "    .dataframe tbody tr th:only-of-type {\n",
       "        vertical-align: middle;\n",
       "    }\n",
       "\n",
       "    .dataframe tbody tr th {\n",
       "        vertical-align: top;\n",
       "    }\n",
       "\n",
       "    .dataframe thead th {\n",
       "        text-align: right;\n",
       "    }\n",
       "</style>\n",
       "<table border=\"1\" class=\"dataframe\">\n",
       "  <thead>\n",
       "    <tr style=\"text-align: right;\">\n",
       "      <th></th>\n",
       "      <th>movie_id</th>\n",
       "      <th>title</th>\n",
       "      <th>tags</th>\n",
       "    </tr>\n",
       "  </thead>\n",
       "  <tbody>\n",
       "    <tr>\n",
       "      <th>0</th>\n",
       "      <td>19995</td>\n",
       "      <td>Avatar</td>\n",
       "      <td>Action Adventure Fantasy Science Fiction cultu...</td>\n",
       "    </tr>\n",
       "    <tr>\n",
       "      <th>1</th>\n",
       "      <td>285</td>\n",
       "      <td>Pirates of the Caribbean: At World's End</td>\n",
       "      <td>Adventure Fantasy Action ocean drug abuse exot...</td>\n",
       "    </tr>\n",
       "    <tr>\n",
       "      <th>2</th>\n",
       "      <td>206647</td>\n",
       "      <td>Spectre</td>\n",
       "      <td>Action Adventure Crime spy based on novel secr...</td>\n",
       "    </tr>\n",
       "    <tr>\n",
       "      <th>3</th>\n",
       "      <td>49026</td>\n",
       "      <td>The Dark Knight Rises</td>\n",
       "      <td>Action Crime Drama Thriller dc comics crime fi...</td>\n",
       "    </tr>\n",
       "    <tr>\n",
       "      <th>4</th>\n",
       "      <td>49529</td>\n",
       "      <td>John Carter</td>\n",
       "      <td>Action Adventure Science Fiction based on nove...</td>\n",
       "    </tr>\n",
       "  </tbody>\n",
       "</table>\n",
       "</div>"
      ],
      "text/plain": [
       "   movie_id                                     title  \\\n",
       "0     19995                                    Avatar   \n",
       "1       285  Pirates of the Caribbean: At World's End   \n",
       "2    206647                                   Spectre   \n",
       "3     49026                     The Dark Knight Rises   \n",
       "4     49529                               John Carter   \n",
       "\n",
       "                                                tags  \n",
       "0  Action Adventure Fantasy Science Fiction cultu...  \n",
       "1  Adventure Fantasy Action ocean drug abuse exot...  \n",
       "2  Action Adventure Crime spy based on novel secr...  \n",
       "3  Action Crime Drama Thriller dc comics crime fi...  \n",
       "4  Action Adventure Science Fiction based on nove...  "
      ]
     },
     "execution_count": 9,
     "metadata": {},
     "output_type": "execute_result"
    }
   ],
   "source": [
    "# Combine all selected fields into one text field\n",
    "def combine_data(row):\n",
    "    return ' '.join(row['genres']) + ' ' + \\\n",
    "           ' '.join(row['keywords']) + ' ' + \\\n",
    "           ' '.join(row['cast']) + ' ' + \\\n",
    "           ' '.join(row['crew']) + ' ' + \\\n",
    "           str(row['overview'])\n",
    "\n",
    "# Create new column\n",
    "movies_df['tags'] = movies_df.apply(combine_data, axis=1)\n",
    "\n",
    "# Keep only required columns for the model\n",
    "final_df = movies_df[['movie_id', 'title', 'tags']]\n",
    "\n",
    "final_df.head()\n"
   ]
  },
  {
   "cell_type": "code",
   "execution_count": 10,
   "metadata": {},
   "outputs": [
    {
     "name": "stderr",
     "output_type": "stream",
     "text": [
      "/var/folders/vp/cgzfn31j54957jx6q48b05zh0000gn/T/ipykernel_21059/3909912435.py:5: SettingWithCopyWarning: \n",
      "A value is trying to be set on a copy of a slice from a DataFrame.\n",
      "Try using .loc[row_indexer,col_indexer] = value instead\n",
      "\n",
      "See the caveats in the documentation: https://pandas.pydata.org/pandas-docs/stable/user_guide/indexing.html#returning-a-view-versus-a-copy\n",
      "  final_df['tags'] = final_df['tags'].str.lower()\n"
     ]
    },
    {
     "data": {
      "text/plain": [
       "(4809, 4809)"
      ]
     },
     "execution_count": 10,
     "metadata": {},
     "output_type": "execute_result"
    }
   ],
   "source": [
    "from sklearn.feature_extraction.text import CountVectorizer\n",
    "from sklearn.metrics.pairwise import cosine_similarity\n",
    "\n",
    "# Convert to lowercase\n",
    "final_df['tags'] = final_df['tags'].str.lower()\n",
    "\n",
    "# Initialize vectorizer\n",
    "vectorizer = CountVectorizer(max_features=5000, stop_words='english')\n",
    "\n",
    "# Convert tags to vectors\n",
    "vectors = vectorizer.fit_transform(final_df['tags']).toarray()\n",
    "\n",
    "# Compute cosine similarity\n",
    "similarity_scores = cosine_similarity(vectors)\n",
    "\n",
    "similarity_scores.shape  # Should return something like (4806, 4806)\n"
   ]
  },
  {
   "cell_type": "code",
   "execution_count": 23,
   "metadata": {},
   "outputs": [],
   "source": [
    "from IPython.display import Image, display\n",
    "\n",
    "def recommend(movie_title):\n",
    "    try:\n",
    "        index = movies[movies['title'].str.lower() == movie_title.lower()].index[0]\n",
    "    except IndexError:\n",
    "        print(\"❌ Movie not found.\")\n",
    "        return\n",
    "\n",
    "    distances = similarity[index]\n",
    "    movie_indices = sorted(list(enumerate(distances)), reverse=True, key=lambda x: x[1])[1:6]\n",
    "\n",
    "    for i in movie_indices:\n",
    "        movie_id = movies.iloc[i[0]].movie_id\n",
    "        title = movies.iloc[i[0]].title\n",
    "        poster_url = fetch_poster_by_title(title)\n",
    "\n",
    "\n",
    "        print(f\"🎬 {title}\")\n",
    "        if poster_url:\n",
    "            display(Image(url=poster_url))\n",
    "        else:\n",
    "            print(\"🚫 Poster not available.\")\n"
   ]
  },
  {
   "cell_type": "code",
   "execution_count": 12,
   "metadata": {},
   "outputs": [],
   "source": [
    "movies = pickle.load(open(\"movie_list.pkl\", \"rb\"))\n",
    "similarity = pickle.load(open(\"similarity.pkl\", \"rb\"))\n"
   ]
  },
  {
   "cell_type": "code",
   "execution_count": 13,
   "metadata": {},
   "outputs": [
    {
     "name": "stdout",
     "output_type": "stream",
     "text": [
      "❌ Failed: ('Connection aborted.', ConnectionResetError(54, 'Connection reset by peer'))\n",
      "🎬 Aliens\n",
      "🚫 Poster not available.\n",
      "🎬 Moonraker\n"
     ]
    },
    {
     "data": {
      "text/html": [
       "<img src=\"https://image.tmdb.org/t/p/w500/6LrJdXNmu5uHOVALZxVYd44Lva0.jpg\"/>"
      ],
      "text/plain": [
       "<IPython.core.display.Image object>"
      ]
     },
     "metadata": {},
     "output_type": "display_data"
    },
    {
     "name": "stdout",
     "output_type": "stream",
     "text": [
      "❌ Failed: ('Connection aborted.', ConnectionResetError(54, 'Connection reset by peer'))\n",
      "🎬 Alien\n",
      "🚫 Poster not available.\n",
      "❌ Failed: ('Connection aborted.', ConnectionResetError(54, 'Connection reset by peer'))\n",
      "🎬 Alien³\n",
      "🚫 Poster not available.\n",
      "❌ Failed: ('Connection aborted.', ConnectionResetError(54, 'Connection reset by peer'))\n",
      "🎬 Silent Running\n",
      "🚫 Poster not available.\n"
     ]
    }
   ],
   "source": [
    "recommend(\"Avatar\")\n"
   ]
  },
  {
   "cell_type": "code",
   "execution_count": 14,
   "metadata": {},
   "outputs": [],
   "source": [
    "import pickle\n",
    "\n",
    "# Save movie list (with titles and ids)\n",
    "pickle.dump(final_df, open('movie_list.pkl', 'wb'))\n",
    "\n",
    "# Save similarity matrix\n",
    "pickle.dump(similarity_scores, open('similarity.pkl', 'wb'))\n"
   ]
  },
  {
   "cell_type": "code",
   "execution_count": 15,
   "metadata": {},
   "outputs": [
    {
     "data": {
      "text/plain": [
       "0                                      Avatar\n",
       "1    Pirates of the Caribbean: At World's End\n",
       "2                                     Spectre\n",
       "3                       The Dark Knight Rises\n",
       "4                                 John Carter\n",
       "Name: title, dtype: object"
      ]
     },
     "execution_count": 15,
     "metadata": {},
     "output_type": "execute_result"
    }
   ],
   "source": [
    "# Load previously saved pickle files\n",
    "movies = pickle.load(open('movie_list.pkl', 'rb'))\n",
    "similarity = pickle.load(open('similarity.pkl', 'rb'))\n",
    "\n",
    "# Show the first few movie titles\n",
    "movies['title'].head()\n",
    "\n"
   ]
  },
  {
   "cell_type": "code",
   "execution_count": 16,
   "metadata": {},
   "outputs": [],
   "source": [
    "import pickle\n",
    "\n",
    "# Load your saved movie data and similarity matrix\n",
    "movies = pickle.load(open('movie_list.pkl', 'rb'))\n",
    "similarity = pickle.load(open('similarity.pkl', 'rb'))\n"
   ]
  },
  {
   "cell_type": "code",
   "execution_count": 17,
   "metadata": {},
   "outputs": [
    {
     "data": {
      "application/vnd.jupyter.widget-view+json": {
       "model_id": "dc3eb7d0233148728e1020dbfe5c5aba",
       "version_major": 2,
       "version_minor": 0
      },
      "text/plain": [
       "Dropdown(description='Movie:', layout=Layout(width='50%'), options=('Avatar', \"Pirates of the Caribbean: At Wo…"
      ]
     },
     "metadata": {},
     "output_type": "display_data"
    }
   ],
   "source": [
    "import ipywidgets as widgets\n",
    "from IPython.display import display\n",
    "\n",
    "movie_selector = widgets.Dropdown(\n",
    "    options=movies['title'].values,\n",
    "    description='Movie:',\n",
    "    layout=widgets.Layout(width='50%')\n",
    ")\n",
    "\n",
    "display(movie_selector)\n"
   ]
  },
  {
   "cell_type": "code",
   "execution_count": 22,
   "metadata": {},
   "outputs": [],
   "source": [
    "def fetch_poster_by_title(title):\n",
    "    try:\n",
    "        url = f\"https://api.themoviedb.org/3/search/movie?api_key={API_KEY}&query={title}\"\n",
    "        response = requests.get(url, timeout=5)\n",
    "        data = response.json()\n",
    "        results = data.get('results')\n",
    "\n",
    "        if results:\n",
    "            poster_path = results[0].get('poster_path')\n",
    "            if poster_path:\n",
    "                return f\"https://image.tmdb.org/t/p/w500{poster_path}\"\n",
    "    except Exception as e:\n",
    "        print(f\"❌ Error: {e}\")\n",
    "\n",
    "    return \"https://via.placeholder.com/200x300?text=No+Poster\"\n"
   ]
  },
  {
   "cell_type": "code",
   "execution_count": 19,
   "metadata": {},
   "outputs": [
    {
     "name": "stdout",
     "output_type": "stream",
     "text": [
      "❌ Failed: ('Connection aborted.', ConnectionResetError(54, 'Connection reset by peer'))\n"
     ]
    }
   ],
   "source": [
    "import requests\n",
    "\n",
    "api_key = 'b76d821cbe9b6f7658da4cdc03826145'\n",
    "test_url = f\"https://api.themoviedb.org/3/movie/19995?api_key={api_key}&language=en-US\"  # 19995 = Avatar (2009)\n",
    "\n",
    "try:\n",
    "    response = requests.get(test_url, timeout=5)\n",
    "    data = response.json()\n",
    "    print(\"✅ Success:\", data.get('title'))\n",
    "    print(\"Poster path:\", data.get('poster_path'))\n",
    "except Exception as e:\n",
    "    print(\"❌ Failed:\", e)\n"
   ]
  },
  {
   "cell_type": "code",
   "execution_count": 20,
   "metadata": {},
   "outputs": [
    {
     "name": "stdout",
     "output_type": "stream",
     "text": [
      "❌ Failed: ('Connection aborted.', ConnectionResetError(54, 'Connection reset by peer'))\n",
      "None\n"
     ]
    }
   ],
   "source": [
    "print(fetch_poster(550))\n"
   ]
  },
  {
   "cell_type": "code",
   "execution_count": 21,
   "metadata": {},
   "outputs": [
    {
     "name": "stdout",
     "output_type": "stream",
     "text": [
      "❌ Failed: ('Connection aborted.', ConnectionResetError(54, 'Connection reset by peer'))\n",
      "🎬 The Helix... Loaded\n",
      "🚫 Poster not available.\n",
      "🎬 The Count of Monte Cristo\n"
     ]
    },
    {
     "data": {
      "text/html": [
       "<img src=\"https://image.tmdb.org/t/p/w500/ifMgDAUXVQLY4DeOu3VTTi55jSP.jpg\"/>"
      ],
      "text/plain": [
       "<IPython.core.display.Image object>"
      ]
     },
     "metadata": {},
     "output_type": "display_data"
    },
    {
     "name": "stdout",
     "output_type": "stream",
     "text": [
      "❌ Failed: ('Connection aborted.', ConnectionResetError(54, 'Connection reset by peer'))\n",
      "🎬 Flatliners\n",
      "🚫 Poster not available.\n",
      "❌ Failed: ('Connection aborted.', ConnectionResetError(54, 'Connection reset by peer'))\n",
      "🎬 Cypher\n",
      "🚫 Poster not available.\n",
      "❌ Failed: ('Connection aborted.', ConnectionResetError(54, 'Connection reset by peer'))\n",
      "🎬 Transformers: Revenge of the Fallen\n",
      "🚫 Poster not available.\n",
      "❌ Failed: ('Connection aborted.', ConnectionResetError(54, 'Connection reset by peer'))\n",
      "🎬 The Notebook\n",
      "🚫 Poster not available.\n",
      "❌ Failed: ('Connection aborted.', ConnectionResetError(54, 'Connection reset by peer'))\n",
      "🎬 Romance & Cigarettes\n",
      "🚫 Poster not available.\n",
      "🎬 Captain Phillips\n"
     ]
    },
    {
     "data": {
      "text/html": [
       "<img src=\"https://image.tmdb.org/t/p/w500/gAH73mMU7rgGZrpYkFYgFgSNHs5.jpg\"/>"
      ],
      "text/plain": [
       "<IPython.core.display.Image object>"
      ]
     },
     "metadata": {},
     "output_type": "display_data"
    },
    {
     "name": "stdout",
     "output_type": "stream",
     "text": [
      "❌ Failed: ('Connection aborted.', ConnectionResetError(54, 'Connection reset by peer'))\n",
      "🎬 Veer-Zaara\n",
      "🚫 Poster not available.\n",
      "❌ Failed: ('Connection aborted.', ConnectionResetError(54, 'Connection reset by peer'))\n",
      "🎬 Four Weddings and a Funeral\n",
      "🚫 Poster not available.\n",
      "❌ Failed: ('Connection aborted.', ConnectionResetError(54, 'Connection reset by peer'))\n",
      "🎬 Iron Man 2\n",
      "🚫 Poster not available.\n",
      "❌ Failed: ('Connection aborted.', ConnectionResetError(54, 'Connection reset by peer'))\n",
      "🎬 Iron Man 3\n",
      "🚫 Poster not available.\n",
      "❌ Failed: ('Connection aborted.', ConnectionResetError(54, 'Connection reset by peer'))\n",
      "🎬 Avengers: Age of Ultron\n",
      "🚫 Poster not available.\n",
      "❌ Failed: ('Connection aborted.', ConnectionResetError(54, 'Connection reset by peer'))\n",
      "🎬 Captain America: Civil War\n",
      "🚫 Poster not available.\n",
      "❌ Failed: ('Connection aborted.', ConnectionResetError(54, 'Connection reset by peer'))\n",
      "🎬 The Avengers\n",
      "🚫 Poster not available.\n"
     ]
    }
   ],
   "source": [
    "recommend(\"Inception\")\n",
    "recommend(\"Titanic\")\n",
    "recommend(\"Iron Man\")\n"
   ]
  }
 ],
 "metadata": {
  "kernelspec": {
   "display_name": ".venv",
   "language": "python",
   "name": "python3"
  },
  "language_info": {
   "codemirror_mode": {
    "name": "ipython",
    "version": 3
   },
   "file_extension": ".py",
   "mimetype": "text/x-python",
   "name": "python",
   "nbconvert_exporter": "python",
   "pygments_lexer": "ipython3",
   "version": "3.13.5"
  }
 },
 "nbformat": 4,
 "nbformat_minor": 2
}
